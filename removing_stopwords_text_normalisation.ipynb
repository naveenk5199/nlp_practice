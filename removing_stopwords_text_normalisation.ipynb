{
  "nbformat": 4,
  "nbformat_minor": 0,
  "metadata": {
    "colab": {
      "name": "removing_stopwords_text_normalisation.ipynb",
      "provenance": [],
      "authorship_tag": "ABX9TyPyeJrMvynNXkoDjbZGCEhy",
      "include_colab_link": true
    },
    "kernelspec": {
      "name": "python3",
      "display_name": "Python 3"
    },
    "language_info": {
      "name": "python"
    }
  },
  "cells": [
    {
      "cell_type": "markdown",
      "metadata": {
        "id": "view-in-github",
        "colab_type": "text"
      },
      "source": [
        "<a href=\"https://colab.research.google.com/github/naveenk5199/nlp_practice/blob/main/removing_stopwords_text_normalisation.ipynb\" target=\"_parent\"><img src=\"https://colab.research.google.com/assets/colab-badge.svg\" alt=\"Open In Colab\"/></a>"
      ]
    },
    {
      "cell_type": "code",
      "execution_count": null,
      "metadata": {
        "id": "EHdpPl8U8tdE"
      },
      "outputs": [],
      "source": [
        "import nltk"
      ]
    },
    {
      "cell_type": "code",
      "source": [
        "nltk.download('stopwords')"
      ],
      "metadata": {
        "colab": {
          "base_uri": "https://localhost:8080/"
        },
        "id": "tWnrY3xy9wJe",
        "outputId": "453509ff-8c07-4ced-b39f-a59dff90f2b2"
      },
      "execution_count": null,
      "outputs": [
        {
          "output_type": "stream",
          "name": "stdout",
          "text": [
            "[nltk_data] Downloading package stopwords to /root/nltk_data...\n",
            "[nltk_data]   Unzipping corpora/stopwords.zip.\n"
          ]
        },
        {
          "output_type": "execute_result",
          "data": {
            "text/plain": [
              "True"
            ]
          },
          "metadata": {},
          "execution_count": 7
        }
      ]
    },
    {
      "cell_type": "code",
      "source": [
        "from nltk.corpus import stopwords"
      ],
      "metadata": {
        "id": "T-c4yoSJ9jnM"
      },
      "execution_count": null,
      "outputs": []
    },
    {
      "cell_type": "code",
      "source": [
        "from nltk.tokenize import word_tokenize"
      ],
      "metadata": {
        "id": "_kj0wbBC9-El"
      },
      "execution_count": null,
      "outputs": []
    },
    {
      "cell_type": "code",
      "source": [
        "set(stopwords.words('english'))"
      ],
      "metadata": {
        "colab": {
          "base_uri": "https://localhost:8080/"
        },
        "id": "dxiIEJGZWJtR",
        "outputId": "8dfb09e6-5507-4fc9-e62e-a4c0869c5956"
      },
      "execution_count": null,
      "outputs": [
        {
          "output_type": "execute_result",
          "data": {
            "text/plain": [
              "{'a',\n",
              " 'about',\n",
              " 'above',\n",
              " 'after',\n",
              " 'again',\n",
              " 'against',\n",
              " 'ain',\n",
              " 'all',\n",
              " 'am',\n",
              " 'an',\n",
              " 'and',\n",
              " 'any',\n",
              " 'are',\n",
              " 'aren',\n",
              " \"aren't\",\n",
              " 'as',\n",
              " 'at',\n",
              " 'be',\n",
              " 'because',\n",
              " 'been',\n",
              " 'before',\n",
              " 'being',\n",
              " 'below',\n",
              " 'between',\n",
              " 'both',\n",
              " 'but',\n",
              " 'by',\n",
              " 'can',\n",
              " 'couldn',\n",
              " \"couldn't\",\n",
              " 'd',\n",
              " 'did',\n",
              " 'didn',\n",
              " \"didn't\",\n",
              " 'do',\n",
              " 'does',\n",
              " 'doesn',\n",
              " \"doesn't\",\n",
              " 'doing',\n",
              " 'don',\n",
              " \"don't\",\n",
              " 'down',\n",
              " 'during',\n",
              " 'each',\n",
              " 'few',\n",
              " 'for',\n",
              " 'from',\n",
              " 'further',\n",
              " 'had',\n",
              " 'hadn',\n",
              " \"hadn't\",\n",
              " 'has',\n",
              " 'hasn',\n",
              " \"hasn't\",\n",
              " 'have',\n",
              " 'haven',\n",
              " \"haven't\",\n",
              " 'having',\n",
              " 'he',\n",
              " 'her',\n",
              " 'here',\n",
              " 'hers',\n",
              " 'herself',\n",
              " 'him',\n",
              " 'himself',\n",
              " 'his',\n",
              " 'how',\n",
              " 'i',\n",
              " 'if',\n",
              " 'in',\n",
              " 'into',\n",
              " 'is',\n",
              " 'isn',\n",
              " \"isn't\",\n",
              " 'it',\n",
              " \"it's\",\n",
              " 'its',\n",
              " 'itself',\n",
              " 'just',\n",
              " 'll',\n",
              " 'm',\n",
              " 'ma',\n",
              " 'me',\n",
              " 'mightn',\n",
              " \"mightn't\",\n",
              " 'more',\n",
              " 'most',\n",
              " 'mustn',\n",
              " \"mustn't\",\n",
              " 'my',\n",
              " 'myself',\n",
              " 'needn',\n",
              " \"needn't\",\n",
              " 'no',\n",
              " 'nor',\n",
              " 'not',\n",
              " 'now',\n",
              " 'o',\n",
              " 'of',\n",
              " 'off',\n",
              " 'on',\n",
              " 'once',\n",
              " 'only',\n",
              " 'or',\n",
              " 'other',\n",
              " 'our',\n",
              " 'ours',\n",
              " 'ourselves',\n",
              " 'out',\n",
              " 'over',\n",
              " 'own',\n",
              " 're',\n",
              " 's',\n",
              " 'same',\n",
              " 'shan',\n",
              " \"shan't\",\n",
              " 'she',\n",
              " \"she's\",\n",
              " 'should',\n",
              " \"should've\",\n",
              " 'shouldn',\n",
              " \"shouldn't\",\n",
              " 'so',\n",
              " 'some',\n",
              " 'such',\n",
              " 't',\n",
              " 'than',\n",
              " 'that',\n",
              " \"that'll\",\n",
              " 'the',\n",
              " 'their',\n",
              " 'theirs',\n",
              " 'them',\n",
              " 'themselves',\n",
              " 'then',\n",
              " 'there',\n",
              " 'these',\n",
              " 'they',\n",
              " 'this',\n",
              " 'those',\n",
              " 'through',\n",
              " 'to',\n",
              " 'too',\n",
              " 'under',\n",
              " 'until',\n",
              " 'up',\n",
              " 've',\n",
              " 'very',\n",
              " 'was',\n",
              " 'wasn',\n",
              " \"wasn't\",\n",
              " 'we',\n",
              " 'were',\n",
              " 'weren',\n",
              " \"weren't\",\n",
              " 'what',\n",
              " 'when',\n",
              " 'where',\n",
              " 'which',\n",
              " 'while',\n",
              " 'who',\n",
              " 'whom',\n",
              " 'why',\n",
              " 'will',\n",
              " 'with',\n",
              " 'won',\n",
              " \"won't\",\n",
              " 'wouldn',\n",
              " \"wouldn't\",\n",
              " 'y',\n",
              " 'you',\n",
              " \"you'd\",\n",
              " \"you'll\",\n",
              " \"you're\",\n",
              " \"you've\",\n",
              " 'your',\n",
              " 'yours',\n",
              " 'yourself',\n",
              " 'yourselves'}"
            ]
          },
          "metadata": {},
          "execution_count": 10
        }
      ]
    },
    {
      "cell_type": "code",
      "source": [
        "# sample sentence\n",
        "text = \"\"\"He determined to drop his litigation with the monastry, and relinguish his claims to the wood-cuting and \n",
        "fishery rihgts at once. He was the more ready to do this becuase the rights had become much less valuable, and he had \n",
        "indeed the vaguest idea where the wood and river in question were.\"\"\""
      ],
      "metadata": {
        "id": "LXV_o3GRWtrj"
      },
      "execution_count": null,
      "outputs": []
    },
    {
      "cell_type": "code",
      "source": [
        "# set of stop words\n",
        "stop_words = (set(stopwords.words('english')))"
      ],
      "metadata": {
        "id": "fcYwLRJjW0N8"
      },
      "execution_count": null,
      "outputs": []
    },
    {
      "cell_type": "code",
      "source": [
        "nltk.download('punkt')"
      ],
      "metadata": {
        "colab": {
          "base_uri": "https://localhost:8080/"
        },
        "id": "HU1NpweTXtNQ",
        "outputId": "42b640da-aeb7-4e5e-ec2f-a7dac9855c28"
      },
      "execution_count": null,
      "outputs": [
        {
          "output_type": "stream",
          "name": "stdout",
          "text": [
            "[nltk_data] Downloading package punkt to /root/nltk_data...\n",
            "[nltk_data]   Unzipping tokenizers/punkt.zip.\n"
          ]
        },
        {
          "output_type": "execute_result",
          "data": {
            "text/plain": [
              "True"
            ]
          },
          "metadata": {},
          "execution_count": 18
        }
      ]
    },
    {
      "cell_type": "code",
      "source": [
        "# tokens of words\n",
        "word_tokens = word_tokenize(text)"
      ],
      "metadata": {
        "id": "26XnXNQsXbiM"
      },
      "execution_count": null,
      "outputs": []
    },
    {
      "cell_type": "code",
      "source": [
        "filtered_word_tokens = []\n",
        "\n",
        "for token in word_tokens:\n",
        "  if token not in stop_words:\n",
        "    filtered_word_tokens.append(token)"
      ],
      "metadata": {
        "id": "9f17V3v2YJS4"
      },
      "execution_count": null,
      "outputs": []
    },
    {
      "cell_type": "code",
      "source": [
        "print('Original sentence: :', ' '.join(word_tokens))\n",
        "print('Length of tokens: ', len(word_tokens))"
      ],
      "metadata": {
        "colab": {
          "base_uri": "https://localhost:8080/"
        },
        "id": "eMrQxkX4Z1FG",
        "outputId": "7799d2c2-20d4-4202-97d6-b5a704e608de"
      },
      "execution_count": null,
      "outputs": [
        {
          "output_type": "stream",
          "name": "stdout",
          "text": [
            "Original sentence: : He determined to drop his litigation with the monastry , and relinguish his claims to the wood-cuting and fishery rihgts at once . He was the more ready to do this becuase the rights had become much less valuable , and he had indeed the vaguest idea where the wood and river in question were .\n",
            "Length of tokens:  56\n"
          ]
        }
      ]
    },
    {
      "cell_type": "code",
      "source": [
        "print('Filtered sentence: ', ' '.join(filtered_word_tokens))\n",
        "print('Length of filtered tokens: ', len(filtered_word_tokens))"
      ],
      "metadata": {
        "colab": {
          "base_uri": "https://localhost:8080/"
        },
        "id": "gmwmOAZnaRYX",
        "outputId": "7cacdbbe-f550-4ec6-f09d-c19fc655f717"
      },
      "execution_count": null,
      "outputs": [
        {
          "output_type": "stream",
          "name": "stdout",
          "text": [
            "Filtered sentence:  He determined drop litigation monastry , relinguish claims wood-cuting fishery rihgts . He ready becuase rights become much less valuable , indeed vaguest idea wood river question .\n",
            "Length of filtered tokens:  28\n"
          ]
        }
      ]
    },
    {
      "cell_type": "markdown",
      "source": [
        "# **Removing Stopwords using spaCy**"
      ],
      "metadata": {
        "id": "SYeOIZ1gcQ1m"
      }
    },
    {
      "cell_type": "code",
      "source": [
        "from spacy.lang.en import English"
      ],
      "metadata": {
        "id": "F_6YVfTpcaZt"
      },
      "execution_count": null,
      "outputs": []
    },
    {
      "cell_type": "code",
      "source": [
        "# Load English tokeniser, tagger, parser, NER and word vectors\n",
        "nlp = English()"
      ],
      "metadata": {
        "id": "k9u9DcKhcpVB"
      },
      "execution_count": null,
      "outputs": []
    },
    {
      "cell_type": "code",
      "source": [
        "# Create nlp object for document\n",
        "nlp_doc = nlp(text)"
      ],
      "metadata": {
        "id": "lwGR7_rWdmEa"
      },
      "execution_count": null,
      "outputs": []
    },
    {
      "cell_type": "code",
      "source": [
        "# Create list of word tokens\n",
        "token_list = []\n",
        "for token in nlp_doc:\n",
        "  token_list.append(token.text)\n",
        "\n",
        "print('Original sentence: ', ' '.join(token_list))\n",
        "print('Length of tokens: ', len(token_list))\n",
        "\n"
      ],
      "metadata": {
        "colab": {
          "base_uri": "https://localhost:8080/"
        },
        "id": "Gyelgc8QdBbl",
        "outputId": "5974862c-1d5a-4bcc-d08c-f4c71a59e599"
      },
      "execution_count": null,
      "outputs": [
        {
          "output_type": "stream",
          "name": "stdout",
          "text": [
            "Original sentence:  He determined to drop his litigation with the monastry , and relinguish his claims to the wood - cuting and \n",
            " fishery rihgts at once . He was the more ready to do this becuase the rights had become much less valuable , and he had \n",
            " indeed the vaguest idea where the wood and river in question were .\n",
            "Length of tokens:  60\n"
          ]
        }
      ]
    },
    {
      "cell_type": "code",
      "source": [
        "# import list of stop words\n",
        "from spacy.lang.en.stop_words import STOP_WORDS\n"
      ],
      "metadata": {
        "id": "NWcmHnhmda4H"
      },
      "execution_count": null,
      "outputs": []
    },
    {
      "cell_type": "code",
      "source": [
        "print(type(STOP_WORDS))"
      ],
      "metadata": {
        "colab": {
          "base_uri": "https://localhost:8080/"
        },
        "id": "drhG9AGvgOif",
        "outputId": "d6225aa8-140c-4990-9917-ac91cb7a6e6a"
      },
      "execution_count": null,
      "outputs": [
        {
          "output_type": "stream",
          "name": "stdout",
          "text": [
            "<class 'set'>\n"
          ]
        }
      ]
    },
    {
      "cell_type": "code",
      "source": [
        "# Create list of filtered word tokens by removing stopwords\n",
        "filtered_word_tokens_spacy = []\n",
        "\n",
        "for token in token_list:\n",
        "  if token not in STOP_WORDS:\n",
        "    filtered_word_tokens_spacy.append(token)\n",
        "print('Filtered text from nltk: ', ' '.join(filtered_word_tokens))\n",
        "print('Filered text from spaCy: ', ' '.join(filtered_word_tokens_spacy))\n",
        "print('Length of filtered text from nltk: ', len(filtered_word_tokens))\n",
        "print('Length of filtered text from spaCy: ', len(filtered_word_tokens_spacy))"
      ],
      "metadata": {
        "colab": {
          "base_uri": "https://localhost:8080/"
        },
        "id": "bDIYBNV6dSSB",
        "outputId": "34648be3-e1ea-4ea8-f361-54146052bd43"
      },
      "execution_count": null,
      "outputs": [
        {
          "output_type": "stream",
          "name": "stdout",
          "text": [
            "Filtered text from nltk:  He determined drop litigation monastry , relinguish claims wood-cuting fishery rihgts . He ready becuase rights become much less valuable , indeed vaguest idea wood river question .\n",
            "Filered text from spaCy:  He determined drop litigation monastry , relinguish claims wood - cuting \n",
            " fishery rihgts . He ready becuase rights valuable , \n",
            " vaguest idea wood river question .\n",
            "Length of filtered text from nltk:  28\n",
            "Length of filtered text from spaCy:  28\n"
          ]
        }
      ]
    },
    {
      "cell_type": "markdown",
      "source": [
        "# **Stopwords removal using Gensim**"
      ],
      "metadata": {
        "id": "gEYXdR5Vgg-I"
      }
    },
    {
      "cell_type": "code",
      "source": [
        "# import Gensim packages\n",
        "from gensim.parsing.preprocessing import remove_stopwords"
      ],
      "metadata": {
        "id": "SeoY5efwgpOI"
      },
      "execution_count": null,
      "outputs": []
    },
    {
      "cell_type": "code",
      "source": [
        "# Load stopwords"
      ],
      "metadata": {
        "id": "_qGQzLsEg0Sb"
      },
      "execution_count": null,
      "outputs": []
    },
    {
      "cell_type": "code",
      "source": [
        "# Tokenise text"
      ],
      "metadata": {
        "id": "J0kvccelg3Pk"
      },
      "execution_count": null,
      "outputs": []
    },
    {
      "cell_type": "code",
      "source": [
        "# Filter tokens by removing stopwords\n",
        "filtered_text = remove_stopwords(text)"
      ],
      "metadata": {
        "id": "ArRGSXgag5-P"
      },
      "execution_count": null,
      "outputs": []
    },
    {
      "cell_type": "code",
      "source": [
        "# Comparisons from nltk, spacy and gensim\n",
        "print('Original text: ', text)\n",
        "print('Filtered text from NLTK: ', ' '.join(filtered_word_tokens))\n",
        "print('Filered text from spaCy: ', ' '.join(filtered_word_tokens_spacy))\n",
        "print('Filtered text from Gensim:', filtered_text)"
      ],
      "metadata": {
        "colab": {
          "base_uri": "https://localhost:8080/"
        },
        "id": "BcnZu9ayg-_2",
        "outputId": "c8981295-8ab7-45b8-f0f1-e79942ee1269"
      },
      "execution_count": null,
      "outputs": [
        {
          "output_type": "stream",
          "name": "stdout",
          "text": [
            "Original text:  He determined to drop his litigation with the monastry, and relinguish his claims to the wood-cuting and \n",
            "fishery rihgts at once. He was the more ready to do this becuase the rights had become much less valuable, and he had \n",
            "indeed the vaguest idea where the wood and river in question were.\n",
            "Filtered text from NLTK:  He determined drop litigation monastry , relinguish claims wood-cuting fishery rihgts . He ready becuase rights become much less valuable , indeed vaguest idea wood river question .\n",
            "Filered text from spaCy:  He determined drop litigation monastry , relinguish claims wood - cuting \n",
            " fishery rihgts . He ready becuase rights valuable , \n",
            " vaguest idea wood river question .\n",
            "Filtered text from Gensim: He determined drop litigation monastry, relinguish claims wood-cuting fishery rihgts once. He ready becuase rights valuable, vaguest idea wood river question were.\n"
          ]
        }
      ]
    }
  ]
}